{
 "cells": [
  {
   "cell_type": "code",
   "execution_count": 1,
   "metadata": {},
   "outputs": [],
   "source": [
    "from azureml.core import Workspace, Dataset"
   ]
  },
  {
   "cell_type": "code",
   "execution_count": 2,
   "metadata": {},
   "outputs": [],
   "source": [
    "subscription_id = '59f2b3d4-3f40-4bf0-8b7f-babdf3c52b7c'\n",
    "resource_group = 'azuremltest'\n",
    "workspace_name = 'azureml'"
   ]
  },
  {
   "cell_type": "code",
   "execution_count": 3,
   "metadata": {},
   "outputs": [],
   "source": [
    "workspace = Workspace(subscription_id, resource_group, workspace_name)"
   ]
  },
  {
   "cell_type": "code",
   "execution_count": 4,
   "metadata": {},
   "outputs": [],
   "source": [
    "dataset = Dataset.get_by_name(workspace, name='batterydataset')\n",
    "# dataset.download(target_path='.', overwrite=False)"
   ]
  },
  {
   "cell_type": "code",
   "execution_count": 6,
   "metadata": {},
   "outputs": [
    {
     "data": {
      "text/plain": [
       "['d:\\\\OneDrive - IIT Kanpur\\\\Thesis\\\\Thesis_Git\\\\Thesis\\\\training\\\\soh_values_oct12/soh_values_RW1.csv',\n",
       " 'd:\\\\OneDrive - IIT Kanpur\\\\Thesis\\\\Thesis_Git\\\\Thesis\\\\training\\\\soh_values_oct12/soh_values_RW6.csv',\n",
       " 'd:\\\\OneDrive - IIT Kanpur\\\\Thesis\\\\Thesis_Git\\\\Thesis\\\\training\\\\soh_values_oct12/soh_values_RW10.csv',\n",
       " 'd:\\\\OneDrive - IIT Kanpur\\\\Thesis\\\\Thesis_Git\\\\Thesis\\\\training\\\\soh_values_oct12/soh_values_RW7.csv',\n",
       " 'd:\\\\OneDrive - IIT Kanpur\\\\Thesis\\\\Thesis_Git\\\\Thesis\\\\training\\\\soh_values_oct12/soh_values_RW11.csv',\n",
       " 'd:\\\\OneDrive - IIT Kanpur\\\\Thesis\\\\Thesis_Git\\\\Thesis\\\\training\\\\soh_values_oct12/soh_values_RW8.csv',\n",
       " 'd:\\\\OneDrive - IIT Kanpur\\\\Thesis\\\\Thesis_Git\\\\Thesis\\\\training\\\\soh_values_oct12/soh_values_RW12.csv',\n",
       " 'd:\\\\OneDrive - IIT Kanpur\\\\Thesis\\\\Thesis_Git\\\\Thesis\\\\training\\\\soh_values_oct12/soh_values_RW9.csv',\n",
       " 'd:\\\\OneDrive - IIT Kanpur\\\\Thesis\\\\Thesis_Git\\\\Thesis\\\\training\\\\soh_values_oct12/soh_values_RW2.csv',\n",
       " 'd:\\\\OneDrive - IIT Kanpur\\\\Thesis\\\\Thesis_Git\\\\Thesis\\\\training\\\\soh_values_oct12/soh_values_RW3.csv',\n",
       " 'd:\\\\OneDrive - IIT Kanpur\\\\Thesis\\\\Thesis_Git\\\\Thesis\\\\training\\\\soh_values_oct12/soh_values_RW4.csv',\n",
       " 'd:\\\\OneDrive - IIT Kanpur\\\\Thesis\\\\Thesis_Git\\\\Thesis\\\\training\\\\soh_values_oct12/soh_values_RW5.csv']"
      ]
     },
     "execution_count": 6,
     "metadata": {},
     "output_type": "execute_result"
    }
   ],
   "source": [
    "dataset.download(target_path='.', overwrite=False)\n"
   ]
  }
 ],
 "metadata": {
  "interpreter": {
   "hash": "4e4c0f3f61250e95ae3a8dbe07a4ab7710ba4248ac458a8a118c88a904c18313"
  },
  "kernelspec": {
   "display_name": "Python 3.6.13 ('aml')",
   "language": "python",
   "name": "python3"
  },
  "language_info": {
   "codemirror_mode": {
    "name": "ipython",
    "version": 3
   },
   "file_extension": ".py",
   "mimetype": "text/x-python",
   "name": "python",
   "nbconvert_exporter": "python",
   "pygments_lexer": "ipython3",
   "version": "3.6.13"
  },
  "orig_nbformat": 4
 },
 "nbformat": 4,
 "nbformat_minor": 2
}
